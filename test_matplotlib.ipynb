{
 "cells": [
  {
   "cell_type": "code",
   "execution_count": null,
   "metadata": {},
   "outputs": [],
   "source": [
    "%matplotlib inline\n",
    "import numpy as np\n",
    "import matplotlib.pyplot as plt"
   ]
  },
  {
   "cell_type": "code",
   "execution_count": null,
   "metadata": {},
   "outputs": [],
   "source": [
    "x = np.arange(0,5,0.1)   # create array from 0 to 5 in 0.1 increments\n",
    "y = np.sin(x)   # y = sin x\n",
    "z = np.cos(x)   # z = cos x\n",
    "plt.plot(x,y,label='sin(x)')   # make a plot\n",
    "plt.plot(x,z,label='cos(x)')   # make another plot\n",
    "plt.xlabel('x')   # label x-axis\n",
    "plt.ylabel('y = sin(x), cos(x)')   # label y-axis\n",
    "plt.legend()\n",
    "plt.savefig('sin_and_cos_x.png',bbox_inches='tight',dpi=600)"
   ]
  },
  {
   "cell_type": "code",
   "execution_count": null,
   "metadata": {},
   "outputs": [],
   "source": []
  }
 ],
 "metadata": {
  "kernelspec": {
   "display_name": "Python 3",
   "language": "python",
   "name": "python3"
  },
  "language_info": {
   "codemirror_mode": {
    "name": "ipython",
    "version": 3
   },
   "file_extension": ".py",
   "mimetype": "text/x-python",
   "name": "python",
   "nbconvert_exporter": "python",
   "pygments_lexer": "ipython3",
   "version": "3.8.6"
  }
 },
 "nbformat": 4,
 "nbformat_minor": 4
}
